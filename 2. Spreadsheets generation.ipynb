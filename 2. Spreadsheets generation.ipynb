{
 "cells": [
  {
   "cell_type": "code",
   "execution_count": null,
   "metadata": {},
   "outputs": [],
   "source": [
    "import numpy as np\n",
    "import pandas as pd\n",
    "import fastf1\n",
    "import os\n",
    "import warnings\n",
    "import xlsxwriter\n",
    "warnings.simplefilter(action='ignore', category=FutureWarning) #ignore future warnings so our file is not polluted with unnecessary info."
   ]
  },
  {
   "cell_type": "code",
   "execution_count": null,
   "metadata": {},
   "outputs": [],
   "source": [
    "fastf1.Cache.enable_cache(os.getenv('LOCALAPPDATA') + \"/pip/cache/fastF1\")"
   ]
  },
  {
   "cell_type": "code",
   "execution_count": null,
   "metadata": {},
   "outputs": [],
   "source": [
    "df_races = pd.DataFrame()\n",
    "df_weather_data = pd.DataFrame()\n",
    "df_races_control_data = pd.DataFrame()\n",
    "df_drivers_info = pd.DataFrame()\n",
    "df_telemetries = pd.DataFrame()"
   ]
  },
  {
   "cell_type": "code",
   "execution_count": null,
   "metadata": {},
   "outputs": [],
   "source": [
    "for i in range(1,23):\n",
    "    session = fastf1.get_session(2022, i, 'R')\n",
    "    session.load()\n",
    "\n",
    "    df_race = session.laps\n",
    "    df_race['LapTime(ms)'] = df_race['LapTime']//np.timedelta64(1, 'ms')     \n",
    "    df_race['EventName'] = session.event.EventName\n",
    "    df_race['EventDate'] = session.event.EventDate\n",
    "    df_races = pd.concat([df_races, df_race])\n",
    "\n",
    "    session.weather_data['EventName'] = session.event.name\n",
    "    df_weather_data = pd.concat([df_weather_data,session.weather_data])\n",
    "\n",
    "    session.race_control_messages['EventName'] = session.event.name\n",
    "    df_races_control_data = pd.concat([df_races_control_data, session.race_control_messages])\n",
    "\n",
    "    for driver in session.drivers:\n",
    "\n",
    "        df_driver_info = pd.DataFrame()\n",
    "        \n",
    "        for item in list(session.get_driver(driver).index):\n",
    "            \n",
    "            df_driver_info['EventName'] = pd.Series(session.event.EventName)       \n",
    "            df_driver_info[item] = session.get_driver(driver)[item]\n",
    "        \n",
    "        df_drivers_info = pd.concat([df_drivers_info,df_driver_info])\n",
    "\n",
    "        session_d = session.laps.pick_driver(driver)\n",
    "        for lap in range(len(session_d)): #len(session_d)\n",
    "            print(\"Race \" + str(i) + \" of 22\" + \" - \" \"Driver \" + str(session.drivers.index(driver)+1) + \" of \"+ str(len(session.drivers)) +\" - \" + \"Lap \" + str(lap + 1) +\" of \" + str(len(session_d)))\n",
    "            telemetry_lap = session_d.iloc[lap,].get_telemetry() \n",
    "            df_tel = telemetry_lap['RelativeDistance'].diff().groupby(telemetry_lap['nGear']).sum().reset_index()\n",
    "            df_tel['DriverNumber'] = driver\n",
    "            df_tel['LapNumber'] = lap + 1\n",
    "            df_tel['EventName'] = session.event.EventName\n",
    "            df_telemetries = pd.concat([df_telemetries, df_tel])\n",
    "\n",
    "df_gear = df_tel.pivot(index=['DriverNumber','LapNumber','EventName'],columns = ['nGear'])\n",
    "df_gear = df_gear.rename(columns={'RelativeDistance': \"Gear\"})\n",
    "df_gear.columns = ['_'.join(str(s).strip() for s in col if s) for col in df_gear.columns]\n",
    "df_gear.reset_index(inplace = True)\n",
    "\n",
    "df_races = pd.merge(df_races,df_gear, how = 'left', on = ['DriverNumber','LapNumber','EventName'])\n",
    "\n",
    "df_races.to_excel(\"Races.xlsx\")\n",
    "df_weather_data.to_excel(\"Weather.xlsx\")\n",
    "df_races_control_data.to_excel(\"Control Messages.xlsx\")\n",
    "df_drivers_info.to_excel(\"Driver Race Info.xlsx\")\n",
    "df_telemetries.to_excel(\"Telemetries.xlsx\")\n"
   ]
  }
 ],
 "metadata": {
  "kernelspec": {
   "display_name": "Python 3",
   "language": "python",
   "name": "python3"
  },
  "language_info": {
   "codemirror_mode": {
    "name": "ipython",
    "version": 3
   },
   "file_extension": ".py",
   "mimetype": "text/x-python",
   "name": "python",
   "nbconvert_exporter": "python",
   "pygments_lexer": "ipython3",
   "version": "3.10.9 (tags/v3.10.9:1dd9be6, Dec  6 2022, 20:01:21) [MSC v.1934 64 bit (AMD64)]"
  },
  "orig_nbformat": 4,
  "vscode": {
   "interpreter": {
    "hash": "e593ac106456af50ce7af38f9671c411b49d6cd90f9b885e167f0f594e09038c"
   }
  }
 },
 "nbformat": 4,
 "nbformat_minor": 2
}
