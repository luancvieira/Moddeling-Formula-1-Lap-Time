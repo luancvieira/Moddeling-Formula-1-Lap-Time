{
 "cells": [
  {
   "cell_type": "code",
   "execution_count": null,
   "metadata": {},
   "outputs": [],
   "source": [
    "import numpy as np\n",
    "import pandas as pd\n",
    "import fastf1\n",
    "import os\n",
    "import warnings\n",
    "import xlsxwriter\n",
    "warnings.simplefilter(action='ignore', category=FutureWarning) #ignore future warnings so our file is not polluted with unnecessary info."
   ]
  },
  {
   "attachments": {},
   "cell_type": "markdown",
   "metadata": {},
   "source": [
    "setting local cache folder - not needed, but execution is faster"
   ]
  },
  {
   "cell_type": "code",
   "execution_count": null,
   "metadata": {},
   "outputs": [],
   "source": [
    "# Check if the subfolder exists\n",
    "if not os.path.exists(os.getenv('LOCALAPPDATA') + \"/pip/cache/fastF1\"):\n",
    "  # Create the subfolder\n",
    "  os.makedirs(os.getenv('LOCALAPPDATA') + \"/pip/cache/fastF1\")\n",
    "\n",
    "fastf1.Cache.enable_cache(os.getenv('LOCALAPPDATA') + \"/pip/cache/fastF1\")"
   ]
  },
  {
   "cell_type": "code",
   "execution_count": null,
   "metadata": {},
   "outputs": [],
   "source": [
    "# Define the path of the subfolder\n",
    "telemetries_path = os.getcwd() + \"/Telemetries\"\n",
    "\n",
    "# Check if the subfolder exists\n",
    "if not os.path.exists(telemetries_path):\n",
    "  # Create the subfolder\n",
    "  os.makedirs(telemetries_path)"
   ]
  },
  {
   "cell_type": "code",
   "execution_count": null,
   "metadata": {},
   "outputs": [],
   "source": [
    "df_races = pd.DataFrame()\n",
    "df_weather_data = pd.DataFrame()\n",
    "df_races_control_data = pd.DataFrame()\n",
    "df_drivers_info = pd.DataFrame()\n",
    "df_telemetries = pd.DataFrame()\n",
    "df_gears = pd.DataFrame()"
   ]
  },
  {
   "attachments": {},
   "cell_type": "markdown",
   "metadata": {},
   "source": [
    "Creating and storing dataframes following [1. Package exploration.ipynb](1.%20Package%20exploration.ipynb)"
   ]
  },
  {
   "cell_type": "code",
   "execution_count": null,
   "metadata": {},
   "outputs": [],
   "source": [
    "for i in range(1,23):   #Events 1 to 22 from 22 Formula 1 World Competition.\n",
    "    session = fastf1.get_session(2022, i, 'R')\n",
    "    session.load()\n",
    "\n",
    "    df_race = session.laps   #Dataframe with info from each lap from each driver from each session (Event)\n",
    "    df_race['msLapTime'] = df_race['LapTime']//np.timedelta64(1, 'ms')   #Converts timedelta variable to float representing milliseconds\n",
    "    df_race['EventName'] = session.event.EventName\n",
    "    df_race['EventDate'] = session.event.EventDate\n",
    "    df_races = pd.concat([df_races, df_race])\n",
    "\n",
    "    session.weather_data['EventName'] = session.event.name   #Weather data for each event\n",
    "    df_weather_data = pd.concat([df_weather_data,session.weather_data])\n",
    "\n",
    "    session.race_control_messages['EventName'] = session.event.name  #Race control messages for each event\n",
    "    df_races_control_data = pd.concat([df_races_control_data, session.race_control_messages])\n",
    "\n",
    "    event_telemetry_path = os.path.join(telemetries_path, session.event.EventName + \".csv\")\n",
    "    telemetry_event = pd.DataFrame()\n",
    "\n",
    "    for driver in session.drivers:\n",
    "\n",
    "        df_driver_info = pd.DataFrame()    \n",
    "        \n",
    "        for item in list(session.get_driver(driver).index):\n",
    "            \n",
    "            df_driver_info['EventName'] = pd.Series(session.event.EventName)       \n",
    "            df_driver_info[item] = session.get_driver(driver)[item]\n",
    "        \n",
    "        df_drivers_info = pd.concat([df_drivers_info,df_driver_info])\n",
    "\n",
    "        session_d = session.laps.pick_driver(driver)\n",
    "        \n",
    "        for lap in range(len(session_d)): #len(session_d)\n",
    "            print(\"Race \" + str(i) + \" of 22\" + \" - \" \"Driver \" + str(session.drivers.index(driver)+1) + \" of \"+ str(len(session.drivers)) +\" - \" + \"Lap \" + str(lap + 1) +\" of \" + str(len(session_d)))\n",
    "            telemetry_lap = session_d.iloc[lap,].get_telemetry() \n",
    "            telemetry_lap['DriverNumber'] = driver\n",
    "            telemetry_lap['LapNumber'] = lap + 1\n",
    "            telemetry_lap['EventName'] = session.event.EventName\n",
    "\n",
    "            pd.concat([telemetry_lap,telemetry_event])\n",
    "            \n",
    "            gear_lap = telemetry_lap[['nGear','LapNumber','DriverNumber','EventName','RelativeDistance']]\n",
    "            gear_lap = gear_lap.copy()\n",
    "            gear_lap['RelativeDistance'] = gear_lap['RelativeDistance'].diff()\n",
    "            gear_lap = gear_lap.groupby(['nGear','LapNumber','DriverNumber','EventName']).sum().reset_index()\n",
    "\n",
    "            df_gears = pd.concat([df_gears, gear_lap])\n",
    "\n",
    "telemetry_event.to_csv(event_telemetry_path)\n",
    "\n",
    "df_gears = df_gears.pivot(index=['DriverNumber','LapNumber','EventName'], columns = ['nGear'])\n",
    "df_gears = df_gears.rename(columns={'RelativeDistance': \"Gear\"})\n",
    "df_gears.columns = ['_'.join(str(s).strip() for s in col if s) for col in df_gears.columns]\n",
    "df_gears.reset_index(inplace = True)\n",
    "\n",
    "df_races = pd.merge(df_races,df_gears, how = 'left', on = ['DriverNumber','LapNumber','EventName'])\n",
    "\n",
    "df_races.to_excel(\"./files/Races.xlsx\")\n",
    "df_weather_data.to_excel(\"./files/Weather.xlsx\")\n",
    "df_races_control_data.to_excel(\"./files/Control Messages.xlsx\")\n",
    "df_drivers_info.to_excel(\"./files/Driver Race Info.xlsx\")\n"
   ]
  },
  {
   "cell_type": "code",
   "execution_count": null,
   "metadata": {},
   "outputs": [],
   "source": [
    "from IPython.display import FileLink, FileLinks\n",
    "FileLink('./1. Package exploration.ipynb')"
   ]
  }
 ],
 "metadata": {
  "kernelspec": {
   "display_name": "Python 3",
   "language": "python",
   "name": "python3"
  },
  "language_info": {
   "codemirror_mode": {
    "name": "ipython",
    "version": 3
   },
   "file_extension": ".py",
   "mimetype": "text/x-python",
   "name": "python",
   "nbconvert_exporter": "python",
   "pygments_lexer": "ipython3",
   "version": "3.10.9"
  },
  "orig_nbformat": 4,
  "vscode": {
   "interpreter": {
    "hash": "e593ac106456af50ce7af38f9671c411b49d6cd90f9b885e167f0f594e09038c"
   }
  }
 },
 "nbformat": 4,
 "nbformat_minor": 2
}
